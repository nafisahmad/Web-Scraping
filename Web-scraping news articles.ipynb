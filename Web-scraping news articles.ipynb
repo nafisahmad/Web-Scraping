{
  "nbformat": 4,
  "nbformat_minor": 0,
  "metadata": {
    "colab": {
      "name": "Untitled0.ipynb",
      "provenance": [],
      "authorship_tag": "ABX9TyMeux6UqEvmFECQSLo6ZLKW",
      "include_colab_link": true
    },
    "kernelspec": {
      "name": "python3",
      "display_name": "Python 3"
    },
    "language_info": {
      "name": "python"
    }
  },
  "cells": [
    {
      "cell_type": "markdown",
      "metadata": {
        "id": "view-in-github",
        "colab_type": "text"
      },
      "source": [
        "<a href=\"https://colab.research.google.com/github/nafisahmad/Web-Scraping/blob/main/Web-scraping%20news%20articles.ipynb\" target=\"_parent\"><img src=\"https://colab.research.google.com/assets/colab-badge.svg\" alt=\"Open In Colab\"/></a>"
      ]
    },
    {
      "cell_type": "markdown",
      "metadata": {
        "id": "8PiR30bz-A7P"
      },
      "source": [
        "#scrape and summerize news articles**"
      ]
    },
    {
      "cell_type": "code",
      "metadata": {
        "colab": {
          "base_uri": "https://localhost:8080/"
        },
        "id": "BnjvjLrv97Yo",
        "outputId": "32e1086a-60be-4fd9-d182-87b5b1810234"
      },
      "source": [
        "pip install nltk"
      ],
      "execution_count": 3,
      "outputs": [
        {
          "output_type": "stream",
          "name": "stdout",
          "text": [
            "Requirement already satisfied: nltk in /usr/local/lib/python3.7/dist-packages (3.2.5)\n",
            "Requirement already satisfied: six in /usr/local/lib/python3.7/dist-packages (from nltk) (1.15.0)\n"
          ]
        }
      ]
    },
    {
      "cell_type": "code",
      "metadata": {
        "colab": {
          "base_uri": "https://localhost:8080/"
        },
        "id": "5_YbJIS5-aVv",
        "outputId": "a347ff01-c26a-4e27-e25e-1ac86b61ab21"
      },
      "source": [
        "pip install newspaper3k"
      ],
      "execution_count": 4,
      "outputs": [
        {
          "output_type": "stream",
          "name": "stdout",
          "text": [
            "Collecting newspaper3k\n",
            "  Downloading newspaper3k-0.2.8-py3-none-any.whl (211 kB)\n",
            "\u001b[?25l\r\u001b[K     |█▌                              | 10 kB 22.1 MB/s eta 0:00:01\r\u001b[K     |███                             | 20 kB 26.2 MB/s eta 0:00:01\r\u001b[K     |████▋                           | 30 kB 18.4 MB/s eta 0:00:01\r\u001b[K     |██████▏                         | 40 kB 17.5 MB/s eta 0:00:01\r\u001b[K     |███████▊                        | 51 kB 5.8 MB/s eta 0:00:01\r\u001b[K     |█████████▎                      | 61 kB 6.2 MB/s eta 0:00:01\r\u001b[K     |██████████▉                     | 71 kB 5.6 MB/s eta 0:00:01\r\u001b[K     |████████████▍                   | 81 kB 6.2 MB/s eta 0:00:01\r\u001b[K     |██████████████                  | 92 kB 6.5 MB/s eta 0:00:01\r\u001b[K     |███████████████▌                | 102 kB 5.4 MB/s eta 0:00:01\r\u001b[K     |█████████████████               | 112 kB 5.4 MB/s eta 0:00:01\r\u001b[K     |██████████████████▋             | 122 kB 5.4 MB/s eta 0:00:01\r\u001b[K     |████████████████████▏           | 133 kB 5.4 MB/s eta 0:00:01\r\u001b[K     |█████████████████████▊          | 143 kB 5.4 MB/s eta 0:00:01\r\u001b[K     |███████████████████████▎        | 153 kB 5.4 MB/s eta 0:00:01\r\u001b[K     |████████████████████████▉       | 163 kB 5.4 MB/s eta 0:00:01\r\u001b[K     |██████████████████████████▍     | 174 kB 5.4 MB/s eta 0:00:01\r\u001b[K     |████████████████████████████    | 184 kB 5.4 MB/s eta 0:00:01\r\u001b[K     |█████████████████████████████▌  | 194 kB 5.4 MB/s eta 0:00:01\r\u001b[K     |███████████████████████████████ | 204 kB 5.4 MB/s eta 0:00:01\r\u001b[K     |████████████████████████████████| 211 kB 5.4 MB/s \n",
            "\u001b[?25hRequirement already satisfied: beautifulsoup4>=4.4.1 in /usr/local/lib/python3.7/dist-packages (from newspaper3k) (4.6.3)\n",
            "Requirement already satisfied: python-dateutil>=2.5.3 in /usr/local/lib/python3.7/dist-packages (from newspaper3k) (2.8.2)\n",
            "Requirement already satisfied: PyYAML>=3.11 in /usr/local/lib/python3.7/dist-packages (from newspaper3k) (3.13)\n",
            "Requirement already satisfied: Pillow>=3.3.0 in /usr/local/lib/python3.7/dist-packages (from newspaper3k) (7.1.2)\n",
            "Collecting feedfinder2>=0.0.4\n",
            "  Downloading feedfinder2-0.0.4.tar.gz (3.3 kB)\n",
            "Requirement already satisfied: requests>=2.10.0 in /usr/local/lib/python3.7/dist-packages (from newspaper3k) (2.23.0)\n",
            "Collecting cssselect>=0.9.2\n",
            "  Downloading cssselect-1.1.0-py2.py3-none-any.whl (16 kB)\n",
            "Collecting jieba3k>=0.35.1\n",
            "  Downloading jieba3k-0.35.1.zip (7.4 MB)\n",
            "\u001b[K     |████████████████████████████████| 7.4 MB 8.0 MB/s \n",
            "\u001b[?25hRequirement already satisfied: lxml>=3.6.0 in /usr/local/lib/python3.7/dist-packages (from newspaper3k) (4.2.6)\n",
            "Collecting tldextract>=2.0.1\n",
            "  Downloading tldextract-3.1.2-py2.py3-none-any.whl (87 kB)\n",
            "\u001b[K     |████████████████████████████████| 87 kB 6.1 MB/s \n",
            "\u001b[?25hCollecting tinysegmenter==0.3\n",
            "  Downloading tinysegmenter-0.3.tar.gz (16 kB)\n",
            "Requirement already satisfied: nltk>=3.2.1 in /usr/local/lib/python3.7/dist-packages (from newspaper3k) (3.2.5)\n",
            "Collecting feedparser>=5.2.1\n",
            "  Downloading feedparser-6.0.8-py3-none-any.whl (81 kB)\n",
            "\u001b[K     |████████████████████████████████| 81 kB 9.2 MB/s \n",
            "\u001b[?25hRequirement already satisfied: six in /usr/local/lib/python3.7/dist-packages (from feedfinder2>=0.0.4->newspaper3k) (1.15.0)\n",
            "Collecting sgmllib3k\n",
            "  Downloading sgmllib3k-1.0.0.tar.gz (5.8 kB)\n",
            "Requirement already satisfied: urllib3!=1.25.0,!=1.25.1,<1.26,>=1.21.1 in /usr/local/lib/python3.7/dist-packages (from requests>=2.10.0->newspaper3k) (1.24.3)\n",
            "Requirement already satisfied: chardet<4,>=3.0.2 in /usr/local/lib/python3.7/dist-packages (from requests>=2.10.0->newspaper3k) (3.0.4)\n",
            "Requirement already satisfied: certifi>=2017.4.17 in /usr/local/lib/python3.7/dist-packages (from requests>=2.10.0->newspaper3k) (2021.5.30)\n",
            "Requirement already satisfied: idna<3,>=2.5 in /usr/local/lib/python3.7/dist-packages (from requests>=2.10.0->newspaper3k) (2.10)\n",
            "Collecting requests-file>=1.4\n",
            "  Downloading requests_file-1.5.1-py2.py3-none-any.whl (3.7 kB)\n",
            "Requirement already satisfied: filelock>=3.0.8 in /usr/local/lib/python3.7/dist-packages (from tldextract>=2.0.1->newspaper3k) (3.0.12)\n",
            "Building wheels for collected packages: tinysegmenter, feedfinder2, jieba3k, sgmllib3k\n",
            "  Building wheel for tinysegmenter (setup.py) ... \u001b[?25l\u001b[?25hdone\n",
            "  Created wheel for tinysegmenter: filename=tinysegmenter-0.3-py3-none-any.whl size=13552 sha256=faa5eb148e30cb76aaa94acf3a96ba1adfa00b6f82eb060ae7550cf7be3164ae\n",
            "  Stored in directory: /root/.cache/pip/wheels/df/67/41/faca10fa501ca010be41b49d40360c2959e1c4f09bcbfa37fa\n",
            "  Building wheel for feedfinder2 (setup.py) ... \u001b[?25l\u001b[?25hdone\n",
            "  Created wheel for feedfinder2: filename=feedfinder2-0.0.4-py3-none-any.whl size=3356 sha256=69f01739fb86d6a869eadcb3df40c45949743fbba0e61434fc3bcd5a7980fdb2\n",
            "  Stored in directory: /root/.cache/pip/wheels/7f/d4/8f/6e2ca54744c9d7292d88ddb8d42876bcdab5e6d84a21c10346\n",
            "  Building wheel for jieba3k (setup.py) ... \u001b[?25l\u001b[?25hdone\n",
            "  Created wheel for jieba3k: filename=jieba3k-0.35.1-py3-none-any.whl size=7398405 sha256=b6d73b20ced717c390dde15b92b3e8e684cd8d966f53231d999a1899824f36c6\n",
            "  Stored in directory: /root/.cache/pip/wheels/4c/91/46/3c208287b726df325a5979574324878b679116e4baae1af3c3\n",
            "  Building wheel for sgmllib3k (setup.py) ... \u001b[?25l\u001b[?25hdone\n",
            "  Created wheel for sgmllib3k: filename=sgmllib3k-1.0.0-py3-none-any.whl size=6065 sha256=39688d9c58259bede599527ae77463e1134a4311665ee79c70c68deeb6895629\n",
            "  Stored in directory: /root/.cache/pip/wheels/73/ad/a4/0dff4a6ef231fc0dfa12ffbac2a36cebfdddfe059f50e019aa\n",
            "Successfully built tinysegmenter feedfinder2 jieba3k sgmllib3k\n",
            "Installing collected packages: sgmllib3k, requests-file, tldextract, tinysegmenter, jieba3k, feedparser, feedfinder2, cssselect, newspaper3k\n",
            "Successfully installed cssselect-1.1.0 feedfinder2-0.0.4 feedparser-6.0.8 jieba3k-0.35.1 newspaper3k-0.2.8 requests-file-1.5.1 sgmllib3k-1.0.0 tinysegmenter-0.3 tldextract-3.1.2\n"
          ]
        }
      ]
    },
    {
      "cell_type": "code",
      "metadata": {
        "id": "PC4ohMdY-Nfv"
      },
      "source": [
        "#import the libraries\n",
        "import nltk\n",
        "from newspaper import Article"
      ],
      "execution_count": 5,
      "outputs": []
    },
    {
      "cell_type": "code",
      "metadata": {
        "id": "1L0hPQA--jXu"
      },
      "source": [
        "#fetch news articles\n",
        "url = \"https://timesofindia.indiatimes.com/city/bengaluru/karnataka-reports-1003-new-covid-19-cases-18-deaths/articleshow/86298186.cms\"\n",
        "article = Article(url)"
      ],
      "execution_count": 36,
      "outputs": []
    },
    {
      "cell_type": "code",
      "metadata": {
        "colab": {
          "base_uri": "https://localhost:8080/"
        },
        "id": "Z5rM2gie-4ub",
        "outputId": "be182f74-4ca7-4749-8a5f-6b9f47eec053"
      },
      "source": [
        "#NLP\n",
        "article.download()\n",
        "article.parse()\n",
        "nltk.download('punkt')\n",
        "article.nlp()"
      ],
      "execution_count": 37,
      "outputs": [
        {
          "output_type": "stream",
          "name": "stdout",
          "text": [
            "[nltk_data] Downloading package punkt to /root/nltk_data...\n",
            "[nltk_data]   Package punkt is already up-to-date!\n"
          ]
        }
      ]
    },
    {
      "cell_type": "code",
      "metadata": {
        "colab": {
          "base_uri": "https://localhost:8080/"
        },
        "id": "7xUxekVX_WUe",
        "outputId": "4aac52cc-476f-4e7c-d1ab-2c763da1923e"
      },
      "source": [
        "#authors of article\n",
        "article.authors"
      ],
      "execution_count": 38,
      "outputs": [
        {
          "output_type": "execute_result",
          "data": {
            "text/plain": [
              "['Pti']"
            ]
          },
          "metadata": {},
          "execution_count": 38
        }
      ]
    },
    {
      "cell_type": "code",
      "metadata": {
        "id": "W_LkEa5g_lcs"
      },
      "source": [
        "#publish date\n",
        "article.publish_date"
      ],
      "execution_count": 39,
      "outputs": []
    },
    {
      "cell_type": "code",
      "metadata": {
        "colab": {
          "base_uri": "https://localhost:8080/",
          "height": 52
        },
        "id": "Z5KLdl8M_rwW",
        "outputId": "3b78f048-525d-4701-a5a6-c7c2cfbeeb70"
      },
      "source": [
        "#top image\n",
        "article.top_image"
      ],
      "execution_count": 40,
      "outputs": [
        {
          "output_type": "execute_result",
          "data": {
            "application/vnd.google.colaboratory.intrinsic+json": {
              "type": "string"
            },
            "text/plain": [
              "'https://static.toiimg.com/thumb/msid-86298130,width-1070,height-580,imgsize-26322,resizemode-75,overlay-toi_sw,pt-32,y_pad-40/photo.jpg'"
            ]
          },
          "metadata": {},
          "execution_count": 40
        }
      ]
    },
    {
      "cell_type": "code",
      "metadata": {
        "colab": {
          "base_uri": "https://localhost:8080/"
        },
        "id": "nQCo5q45_x04",
        "outputId": "e4e2511c-f8ba-4f18-82b3-b2ad74946d66"
      },
      "source": [
        "#artcile text\n",
        "print(article.text)"
      ],
      "execution_count": 41,
      "outputs": [
        {
          "output_type": "stream",
          "name": "stdout",
          "text": [
            "BENGALURU: Karnataka logged 1,003 fresh COVID-19 cases and 18 deaths on Friday, taking the total number of infections to 29,66,194 and the toll to 37,573.The day also saw 1,199 discharges, taking the total number of recoveries in the state so far to 29,12,633. Bengaluru Urban topped in the number of new infections with 310, as the city saw 276 discharges and six deaths. The total number of active cases in the state stood at 15,960.While the positivity rate for the day stood at 0.67 per cent, the Case Fatality Rate (CFR) was 1.79 per cent.Behind Bengaluru Urban in the fatality count was Belagavi (3), Dakshina Kannada (2), followed by others.Among the districts where the new cases were reported, Dakshina Kannada had 124, Kodagu 96, Udupi 94, followed by others.Bengaluru Urban district topped the list of positive cases, with a total of 12,42,950, Mysuru was next with 1,77,149 and Tumakuru 1,19,861.Among discharges too, Bengaluru Urban was on top with 12,19,417, followed by Mysuru 1,74,211 and Tumakuru 1,18,123.Cumulatively a total of 4,60,04,395 samples have been tested in the state so far, out of which 1,48,496 were on Friday alone.\n"
          ]
        }
      ]
    },
    {
      "cell_type": "code",
      "metadata": {
        "colab": {
          "base_uri": "https://localhost:8080/"
        },
        "id": "pTeFxqd6ABuB",
        "outputId": "c9ebbe8b-b987-4d22-91e8-334d1be6ba2f"
      },
      "source": [
        "#article summary\n",
        "print(article.summary)"
      ],
      "execution_count": 42,
      "outputs": [
        {
          "output_type": "stream",
          "name": "stdout",
          "text": [
            "BENGALURU: Karnataka logged 1,003 fresh COVID-19 cases and 18 deaths on Friday, taking the total number of infections to 29,66,194 and the toll to 37,573.The day also saw 1,199 discharges, taking the total number of recoveries in the state so far to 29,12,633.\n",
            "Bengaluru Urban topped in the number of new infections with 310, as the city saw 276 discharges and six deaths.\n",
            "The total number of active cases in the state stood at 15,960.While the positivity rate for the day stood at 0.67 per cent, the Case Fatality Rate (CFR) was 1.79 per cent.Behind Bengaluru Urban in the fatality count was Belagavi (3), Dakshina Kannada (2), followed by others.Among the districts where the new cases were reported, Dakshina Kannada had 124, Kodagu 96, Udupi 94, followed by others.Bengaluru Urban district topped the list of positive cases, with a total of 12,42,950, Mysuru was next with 1,77,149 and Tumakuru 1,19,861.Among discharges too, Bengaluru Urban was on top with 12,19,417, followed by Mysuru 1,74,211 and Tumakuru 1,18,123.Cumulatively a total of 4,60,04,395 samples have been tested in the state so far, out of which 1,48,496 were on Friday alone.\n"
          ]
        }
      ]
    }
  ]
}