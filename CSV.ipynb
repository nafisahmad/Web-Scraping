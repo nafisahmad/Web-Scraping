{
  "nbformat": 4,
  "nbformat_minor": 0,
  "metadata": {
    "colab": {
      "name": "CSV.ipynb",
      "provenance": [],
      "collapsed_sections": []
    },
    "kernelspec": {
      "name": "python3",
      "display_name": "Python 3"
    },
    "language_info": {
      "name": "python"
    }
  },
  "cells": [
    {
      "cell_type": "code",
      "metadata": {
        "id": "vB2Nk5ZANMk-"
      },
      "source": [
        "import requests\n",
        "from bs4 import BeautifulSoup\n",
        "import pandas as pd\n",
        "dummy_url=\"https://inshorts.com/en/read/badminton\"\n",
        "data_dummy=requests.get(dummy_url)\n",
        "soup=BeautifulSoup(data_dummy.content,'html.parser')\n",
        "\n",
        "\n",
        "urls=[\"https://inshorts.com/en/read/cricket\",\"https://inshorts.com/en/read/tennis\",\n",
        "      \"https://inshorts.com/en/read/badminton\"]\n",
        "news_data_content,news_data_title,news_data_category,news_data_time=[],[],[],[]\n",
        "for url in urls:\n",
        "  category=url.split('/')[-1]\n",
        "  data=requests.get(url)\n",
        "  soup=BeautifulSoup(data.content,'html.parser')\n",
        "  news_title=[]\n",
        "  news_content=[]\n",
        "  news_category=[]\n",
        "  news_time = []\n",
        "  for headline,article,time in zip(soup.find_all('div', class_=[\"news-card-title news-right-box\"]),\n",
        "                            soup.find_all('div',class_=[\"news-card-content news-right-box\"]),\n",
        "                            soup.find_all('div', class_ = [\"news-card-author-time news-card-author-time-in-title\"])):\n",
        "    \n",
        "    news_title.append(headline.find('span',attrs={'itemprop':\"headline\"}).string)\n",
        "    news_content.append(article.find('div',attrs={'itemprop':\"articleBody\"}).string)\n",
        "    news_time.append(time.find('span', clas=[\"date\"]))\n",
        "\n",
        "    news_category.append(category)\n",
        "  news_data_title.extend(news_title)\n",
        "  news_data_content.extend(news_content)\n",
        "  news_data_category.extend(news_category)  \n",
        "  news_data_time.extend(news_time)\n",
        "\n",
        "df1=pd.DataFrame(news_data_title,columns=[\"Title\"])\n",
        "df2=pd.DataFrame(news_data_content,columns=[\"Content\"])\n",
        "df3=pd.DataFrame(news_data_category,columns=[\"Category\"])\n",
        "df4=pd.DataFrame(news_data_time, columns=[\"time\"])\n",
        "df=pd.concat([df1,df2,df3,df4],axis=1)\n",
        "\n",
        "\n",
        "def name():\n",
        "  a = input(\"File Name: \")\n",
        "  return a\n",
        " \n",
        "\n",
        "b = name()\n",
        "\n",
        "\n",
        "df.to_csv(b + \".csv\")"
      ],
      "execution_count": null,
      "outputs": []
    }
  ]
}